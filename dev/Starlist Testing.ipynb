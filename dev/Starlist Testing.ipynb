{
 "cells": [
  {
   "cell_type": "code",
   "execution_count": 8,
   "metadata": {
    "collapsed": false
   },
   "outputs": [
    {
     "name": "stdout",
     "output_type": "stream",
     "text": [
      "The autoreload extension is already loaded. To reload it, use:\n",
      "  %reload_ext autoreload\n"
     ]
    }
   ],
   "source": [
    "%load_ext autoreload\n",
    "%autoreload 3\n",
    "import imp\n",
    "import KOPy.targets\n",
    "imp.reload(KOPy.targets)\n",
    "import pkg_resources"
   ]
  },
  {
   "cell_type": "code",
   "execution_count": 9,
   "metadata": {
    "collapsed": false
   },
   "outputs": [
    {
     "data": {
      "text/plain": [
       "[<Target 'F05024-1941'@'05h04m36.529s -19d37m03.653s' lgs=0, gs=S2CM006577>,\n",
       " <Target 'S2CM006571'@'05h04m37.229s -19d37m04.563s' rmag=14.73, b-r=2.38, b-v=0.57, sep=9.54>,\n",
       " <Target 'F00188-0856'@'00h21m26.519s -08d39m25.997s' lgs=1, gs=S06K006095>,\n",
       " <Target 'S06K006095'@'00h21m26.509s -08d39m34.277s' rmag=17.92, sep=7.18>,\n",
       " <Target 'F00456-2904'@'00h48m06.779s -28d48m19.025s' lgs=1, gs=S0CQ003654>,\n",
       " <Target 'S0CQ003654'@'00h48m03.859s -28d48m46.495s' rmag=16.43, b-r=1.82, b-v=1.01, sep=46.86, pa=45>]"
      ]
     },
     "execution_count": 9,
     "metadata": {},
     "output_type": "execute_result"
    }
   ],
   "source": [
    "tl = KOPy.targets.TargetList.from_starlist(pkg_resources.resource_stream(\"KOPy.tests\", \"data/small_starlist.txt\"))\n",
    "tl"
   ]
  },
  {
   "cell_type": "code",
   "execution_count": 14,
   "metadata": {
    "collapsed": false
   },
   "outputs": [
    {
     "data": {
      "text/plain": [
       "[<Target 'F05024-1941'@'05h04m36.529s -19d37m03.653s' gs=S2CM006577, lgs=0>,\n",
       " <Target 'S2CM006571'@'05h04m37.229s -19d37m04.563s' rmag=14.73, b-r=2.38, sep=9.54, b-v=0.57>,\n",
       " <Target 'F00188-0856'@'00h21m26.519s -08d39m25.997s' gs=S06K006095, lgs=1>,\n",
       " <Target 'S06K006095'@'00h21m26.509s -08d39m34.277s' rmag=17.92, sep=7.18>,\n",
       " <Target 'F00456-2904'@'00h48m06.779s -28d48m19.025s' gs=S0CQ003654, lgs=1>,\n",
       " <Target 'S0CQ003654'@'00h48m03.859s -28d48m46.495s' rmag=16.43, b-r=1.82, sep=46.86, pa=45, b-v=1.01>]"
      ]
     },
     "execution_count": 14,
     "metadata": {},
     "output_type": "execute_result"
    }
   ],
   "source": [
    "t = tl.table()\n",
    "KOPy.targets.TargetList.from_table(t)"
   ]
  },
  {
   "cell_type": "code",
   "execution_count": null,
   "metadata": {
    "collapsed": false
   },
   "outputs": [],
   "source": []
  },
  {
   "cell_type": "code",
   "execution_count": null,
   "metadata": {
    "collapsed": true
   },
   "outputs": [],
   "source": []
  }
 ],
 "metadata": {
  "kernelspec": {
   "display_name": "Python 3",
   "language": "python",
   "name": "python3"
  },
  "language_info": {
   "codemirror_mode": {
    "name": "ipython",
    "version": 3
   },
   "file_extension": ".py",
   "mimetype": "text/x-python",
   "name": "python",
   "nbconvert_exporter": "python",
   "pygments_lexer": "ipython3",
   "version": "3.4.3"
  }
 },
 "nbformat": 4,
 "nbformat_minor": 0
}
